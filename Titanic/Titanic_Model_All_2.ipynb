{
  "nbformat": 4,
  "nbformat_minor": 0,
  "metadata": {
    "colab": {
      "name": "Titanic_Model_All_2.ipynb",
      "provenance": [],
      "collapsed_sections": []
    },
    "kernelspec": {
      "name": "python3",
      "display_name": "Python 3"
    }
  },
  "cells": [
    {
      "cell_type": "markdown",
      "metadata": {
        "id": "KOSN7bpMDSjd",
        "colab_type": "text"
      },
      "source": [
        "**Problem Statement :**\n",
        "\n",
        "1.   Perform EDA on Titanic dataset.\n",
        "\n"
      ]
    },
    {
      "cell_type": "code",
      "metadata": {
        "id": "dvFaG9T3Ggv7",
        "colab_type": "code",
        "colab": {
          "base_uri": "https://localhost:8080/",
          "height": 34
        },
        "outputId": "3498b62d-49ec-44a1-9a48-c825ff2c0867"
      },
      "source": [
        "pip install joblib\n"
      ],
      "execution_count": null,
      "outputs": [
        {
          "output_type": "stream",
          "text": [
            "Requirement already satisfied: joblib in /usr/local/lib/python3.6/dist-packages (0.16.0)\n"
          ],
          "name": "stdout"
        }
      ]
    },
    {
      "cell_type": "code",
      "metadata": {
        "id": "T3iNGHc9G3vd",
        "colab_type": "code",
        "colab": {
          "base_uri": "https://localhost:8080/",
          "height": 34
        },
        "outputId": "151ca207-b91a-44bc-8cd9-6ab97f42d77d"
      },
      "source": [
        "from google.colab import drive\n",
        "drive.mount('/content/gdrive')"
      ],
      "execution_count": 57,
      "outputs": [
        {
          "output_type": "stream",
          "text": [
            "Mounted at /content/gdrive\n"
          ],
          "name": "stdout"
        }
      ]
    },
    {
      "cell_type": "code",
      "metadata": {
        "id": "miT144GsGo5F",
        "colab_type": "code",
        "colab": {}
      },
      "source": [
        "#Importing Libraries\n",
        "# for basic mathematics operation \n",
        "import pandas as pd\n",
        "import numpy as np\n",
        "\n",
        "# for visualizations\n",
        "import seaborn as sns\n",
        "import matplotlib.pyplot as plt\n",
        "% matplotlib inline\n"
      ],
      "execution_count": 58,
      "outputs": []
    },
    {
      "cell_type": "code",
      "metadata": {
        "id": "mIMt8fxNGsxM",
        "colab_type": "code",
        "colab": {
          "base_uri": "https://localhost:8080/",
          "height": 136
        },
        "outputId": "679cbaf8-6bd3-49cc-8d53-766fc4f04849"
      },
      "source": [
        "# importing the dataset\n",
        "df=pd.read_csv('/content/gdrive/My Drive/titanic.csv')\n",
        "print(df.head(4))"
      ],
      "execution_count": 110,
      "outputs": [
        {
          "output_type": "stream",
          "text": [
            "   survived  pclass     sex   age  ...  deck  embark_town  alive  alone\n",
            "0         0       3    male  22.0  ...   NaN  Southampton     no  False\n",
            "1         1       1  female  38.0  ...     C    Cherbourg    yes  False\n",
            "2         1       3  female  26.0  ...   NaN  Southampton    yes   True\n",
            "3         1       1  female  35.0  ...     C  Southampton    yes  False\n",
            "\n",
            "[4 rows x 15 columns]\n"
          ],
          "name": "stdout"
        }
      ]
    },
    {
      "cell_type": "code",
      "metadata": {
        "id": "3rSbIsbmEDzS",
        "colab_type": "code",
        "colab": {
          "base_uri": "https://localhost:8080/",
          "height": 34
        },
        "outputId": "da913e9d-fdd6-4f05-9e6e-f0e69afd37ba"
      },
      "source": [
        "#.shape will give you over all Columns and rows associated with the dataset\n",
        "df.shape "
      ],
      "execution_count": 112,
      "outputs": [
        {
          "output_type": "execute_result",
          "data": {
            "text/plain": [
              "(891, 15)"
            ]
          },
          "metadata": {
            "tags": []
          },
          "execution_count": 112
        }
      ]
    },
    {
      "cell_type": "code",
      "metadata": {
        "id": "pe1ERTP8ESdF",
        "colab_type": "code",
        "colab": {
          "base_uri": "https://localhost:8080/",
          "height": 297
        },
        "outputId": "707f2333-9b0e-4f37-94d4-d34e9aa83e48"
      },
      "source": [
        "#.describe() summarizes the count, mean, standard deviation, min, and max for numeric variables.\n",
        "df.describe()"
      ],
      "execution_count": 113,
      "outputs": [
        {
          "output_type": "execute_result",
          "data": {
            "text/html": [
              "<div>\n",
              "<style scoped>\n",
              "    .dataframe tbody tr th:only-of-type {\n",
              "        vertical-align: middle;\n",
              "    }\n",
              "\n",
              "    .dataframe tbody tr th {\n",
              "        vertical-align: top;\n",
              "    }\n",
              "\n",
              "    .dataframe thead th {\n",
              "        text-align: right;\n",
              "    }\n",
              "</style>\n",
              "<table border=\"1\" class=\"dataframe\">\n",
              "  <thead>\n",
              "    <tr style=\"text-align: right;\">\n",
              "      <th></th>\n",
              "      <th>survived</th>\n",
              "      <th>pclass</th>\n",
              "      <th>age</th>\n",
              "      <th>sibsp</th>\n",
              "      <th>parch</th>\n",
              "      <th>fare</th>\n",
              "    </tr>\n",
              "  </thead>\n",
              "  <tbody>\n",
              "    <tr>\n",
              "      <th>count</th>\n",
              "      <td>891.000000</td>\n",
              "      <td>891.000000</td>\n",
              "      <td>714.000000</td>\n",
              "      <td>891.000000</td>\n",
              "      <td>891.000000</td>\n",
              "      <td>891.000000</td>\n",
              "    </tr>\n",
              "    <tr>\n",
              "      <th>mean</th>\n",
              "      <td>0.383838</td>\n",
              "      <td>2.308642</td>\n",
              "      <td>29.699118</td>\n",
              "      <td>0.523008</td>\n",
              "      <td>0.381594</td>\n",
              "      <td>32.204208</td>\n",
              "    </tr>\n",
              "    <tr>\n",
              "      <th>std</th>\n",
              "      <td>0.486592</td>\n",
              "      <td>0.836071</td>\n",
              "      <td>14.526497</td>\n",
              "      <td>1.102743</td>\n",
              "      <td>0.806057</td>\n",
              "      <td>49.693429</td>\n",
              "    </tr>\n",
              "    <tr>\n",
              "      <th>min</th>\n",
              "      <td>0.000000</td>\n",
              "      <td>1.000000</td>\n",
              "      <td>0.420000</td>\n",
              "      <td>0.000000</td>\n",
              "      <td>0.000000</td>\n",
              "      <td>0.000000</td>\n",
              "    </tr>\n",
              "    <tr>\n",
              "      <th>25%</th>\n",
              "      <td>0.000000</td>\n",
              "      <td>2.000000</td>\n",
              "      <td>20.125000</td>\n",
              "      <td>0.000000</td>\n",
              "      <td>0.000000</td>\n",
              "      <td>7.910400</td>\n",
              "    </tr>\n",
              "    <tr>\n",
              "      <th>50%</th>\n",
              "      <td>0.000000</td>\n",
              "      <td>3.000000</td>\n",
              "      <td>28.000000</td>\n",
              "      <td>0.000000</td>\n",
              "      <td>0.000000</td>\n",
              "      <td>14.454200</td>\n",
              "    </tr>\n",
              "    <tr>\n",
              "      <th>75%</th>\n",
              "      <td>1.000000</td>\n",
              "      <td>3.000000</td>\n",
              "      <td>38.000000</td>\n",
              "      <td>1.000000</td>\n",
              "      <td>0.000000</td>\n",
              "      <td>31.000000</td>\n",
              "    </tr>\n",
              "    <tr>\n",
              "      <th>max</th>\n",
              "      <td>1.000000</td>\n",
              "      <td>3.000000</td>\n",
              "      <td>80.000000</td>\n",
              "      <td>8.000000</td>\n",
              "      <td>6.000000</td>\n",
              "      <td>512.329200</td>\n",
              "    </tr>\n",
              "  </tbody>\n",
              "</table>\n",
              "</div>"
            ],
            "text/plain": [
              "         survived      pclass         age       sibsp       parch        fare\n",
              "count  891.000000  891.000000  714.000000  891.000000  891.000000  891.000000\n",
              "mean     0.383838    2.308642   29.699118    0.523008    0.381594   32.204208\n",
              "std      0.486592    0.836071   14.526497    1.102743    0.806057   49.693429\n",
              "min      0.000000    1.000000    0.420000    0.000000    0.000000    0.000000\n",
              "25%      0.000000    2.000000   20.125000    0.000000    0.000000    7.910400\n",
              "50%      0.000000    3.000000   28.000000    0.000000    0.000000   14.454200\n",
              "75%      1.000000    3.000000   38.000000    1.000000    0.000000   31.000000\n",
              "max      1.000000    3.000000   80.000000    8.000000    6.000000  512.329200"
            ]
          },
          "metadata": {
            "tags": []
          },
          "execution_count": 113
        }
      ]
    },
    {
      "cell_type": "code",
      "metadata": {
        "id": "5F6Dbd04vwNv",
        "colab_type": "code",
        "colab": {
          "base_uri": "https://localhost:8080/",
          "height": 289
        },
        "outputId": "98da9041-adbc-4592-89f0-4155ea9ab5d9"
      },
      "source": [
        "# checking if there is any NULL data\n",
        "df.isnull().sum()"
      ],
      "execution_count": 60,
      "outputs": [
        {
          "output_type": "execute_result",
          "data": {
            "text/plain": [
              "survived         0\n",
              "pclass           0\n",
              "sex              0\n",
              "age            177\n",
              "sibsp            0\n",
              "parch            0\n",
              "fare             0\n",
              "embarked         2\n",
              "class            0\n",
              "who              0\n",
              "adult_male       0\n",
              "deck           688\n",
              "embark_town      2\n",
              "alive            0\n",
              "alone            0\n",
              "dtype: int64"
            ]
          },
          "metadata": {
            "tags": []
          },
          "execution_count": 60
        }
      ]
    },
    {
      "cell_type": "markdown",
      "metadata": {
        "id": "bPYR2VMuFzpt",
        "colab_type": "text"
      },
      "source": [
        "Dropping unwanted Columns"
      ]
    },
    {
      "cell_type": "markdown",
      "metadata": {
        "id": "YQBvq92EJMxg",
        "colab_type": "text"
      },
      "source": [
        "Analysis:\n",
        "    1.Since Age,deck and embark_town has more '0' values we can remove those columns from the dataset."
      ]
    },
    {
      "cell_type": "code",
      "metadata": {
        "id": "qCUsDrz3v2iA",
        "colab_type": "code",
        "colab": {}
      },
      "source": [
        "df=df.drop('deck',axis=1)"
      ],
      "execution_count": 61,
      "outputs": []
    },
    {
      "cell_type": "code",
      "metadata": {
        "id": "QUCSV8dkwBWT",
        "colab_type": "code",
        "colab": {}
      },
      "source": [
        "df=df.drop('embark_town',axis=1)"
      ],
      "execution_count": 62,
      "outputs": []
    },
    {
      "cell_type": "code",
      "metadata": {
        "id": "2Bgm2LgswFtv",
        "colab_type": "code",
        "colab": {}
      },
      "source": [
        "df=df.drop('embarked',axis=1)"
      ],
      "execution_count": 63,
      "outputs": []
    },
    {
      "cell_type": "code",
      "metadata": {
        "id": "UOiNxXycwJQ9",
        "colab_type": "code",
        "colab": {}
      },
      "source": [
        "df=df.drop('age',axis=1)"
      ],
      "execution_count": 64,
      "outputs": []
    },
    {
      "cell_type": "code",
      "metadata": {
        "id": "d94Avd6uwQQP",
        "colab_type": "code",
        "colab": {
          "base_uri": "https://localhost:8080/",
          "height": 221
        },
        "outputId": "08ede92c-ff03-411a-9029-19e21aeb8a80"
      },
      "source": [
        "#Checking again if there is any NULL data\n",
        "df.isnull().sum()"
      ],
      "execution_count": 65,
      "outputs": [
        {
          "output_type": "execute_result",
          "data": {
            "text/plain": [
              "survived      0\n",
              "pclass        0\n",
              "sex           0\n",
              "sibsp         0\n",
              "parch         0\n",
              "fare          0\n",
              "class         0\n",
              "who           0\n",
              "adult_male    0\n",
              "alive         0\n",
              "alone         0\n",
              "dtype: int64"
            ]
          },
          "metadata": {
            "tags": []
          },
          "execution_count": 65
        }
      ]
    },
    {
      "cell_type": "code",
      "metadata": {
        "id": "l7Q-muk54d2h",
        "colab_type": "code",
        "colab": {
          "base_uri": "https://localhost:8080/",
          "height": 119
        },
        "outputId": "41b33ec7-a1b5-4bad-b455-57a5f9cd8226"
      },
      "source": [
        "df[\"alive\"].head()"
      ],
      "execution_count": 66,
      "outputs": [
        {
          "output_type": "execute_result",
          "data": {
            "text/plain": [
              "0     no\n",
              "1    yes\n",
              "2    yes\n",
              "3    yes\n",
              "4     no\n",
              "Name: alive, dtype: object"
            ]
          },
          "metadata": {
            "tags": []
          },
          "execution_count": 66
        }
      ]
    },
    {
      "cell_type": "markdown",
      "metadata": {
        "id": "aXpOBZoiF7cb",
        "colab_type": "text"
      },
      "source": [
        "**Data** **Visualization**\n"
      ]
    },
    {
      "cell_type": "code",
      "metadata": {
        "id": "5dV-amKU43VY",
        "colab_type": "code",
        "colab": {
          "base_uri": "https://localhost:8080/",
          "height": 279
        },
        "outputId": "50b8477d-3aea-4af3-f6cb-d67ece4f134c"
      },
      "source": [
        "sns.countplot(x='survived',data=df)\n",
        "plt.show()"
      ],
      "execution_count": 67,
      "outputs": [
        {
          "output_type": "display_data",
          "data": {
            "image/png": "[encoded data removed]",
            "text/plain": [
              "<Figure size 432x288 with 1 Axes>"
            ]
          },
          "metadata": {
            "tags": [],
            "needs_background": "light"
          }
        }
      ]
    },
    {
      "cell_type": "markdown",
      "metadata": {
        "id": "oxXEyxuQJVib",
        "colab_type": "text"
      },
      "source": [
        "Analysis:\n",
        "\n",
        "1.   More than 550 did not survied and hardly around 350 survived\n",
        "   \n",
        "\n",
        "\n",
        "   "
      ]
    },
    {
      "cell_type": "code",
      "metadata": {
        "id": "d_um9IYi49ZU",
        "colab_type": "code",
        "colab": {
          "base_uri": "https://localhost:8080/",
          "height": 279
        },
        "outputId": "12d8c97b-0287-4ce8-b70a-4e772479965f"
      },
      "source": [
        "sns.countplot(x=\"survived\",hue=\"sex\",data=df)\n",
        "plt.show()"
      ],
      "execution_count": 68,
      "outputs": [
        {
          "output_type": "display_data",
          "data": {
            "image/png": "[encoded data removed]",
            "text/plain": [
              "<Figure size 432x288 with 1 Axes>"
            ]
          },
          "metadata": {
            "tags": [],
            "needs_background": "light"
          }
        }
      ]
    },
    {
      "cell_type": "markdown",
      "metadata": {
        "id": "-jHEkNO5UilR",
        "colab_type": "text"
      },
      "source": [
        "Analysis:\n",
        "\n",
        "1.   From the above graph we can observe that most of the 'Male' did not survived.\n",
        "2.   So Most of the 'Females' are alive.\n",
        "\n",
        "\n",
        "        \n",
        "        \n",
        "   \n"
      ]
    },
    {
      "cell_type": "code",
      "metadata": {
        "id": "dWSa8cLR5B2o",
        "colab_type": "code",
        "colab": {
          "base_uri": "https://localhost:8080/",
          "height": 279
        },
        "outputId": "0916bdd0-1081-4930-c5cf-9d4a96b44820"
      },
      "source": [
        "sns.countplot(x=\"survived\",hue=\"pclass\",data=df)\n",
        "plt.show()"
      ],
      "execution_count": 69,
      "outputs": [
        {
          "output_type": "display_data",
          "data": {
            "image/png": "[encoded data removed]",
            "text/plain": [
              "<Figure size 432x288 with 1 Axes>"
            ]
          },
          "metadata": {
            "tags": [],
            "needs_background": "light"
          }
        }
      ]
    },
    {
      "cell_type": "markdown",
      "metadata": {
        "id": "KsARd8vgU3Qy",
        "colab_type": "text"
      },
      "source": [
        "\n",
        "Analysis:\n",
        "1.  As we can see most of the people who belongs to 3rd class did not survive.\n",
        "2.  1st class and 2nd class passengers are more likely to be alive than 3rd class.\n",
        "\n",
        "\n",
        "\n",
        "\n",
        "  \n"
      ]
    },
    {
      "cell_type": "code",
      "metadata": {
        "id": "bx6c_EJH5N81",
        "colab_type": "code",
        "colab": {}
      },
      "source": [
        "df=df.drop('who',axis=1) #We can get this data in sex"
      ],
      "execution_count": 70,
      "outputs": []
    },
    {
      "cell_type": "code",
      "metadata": {
        "id": "KI0-5o4w5SaE",
        "colab_type": "code",
        "colab": {}
      },
      "source": [
        "df=df.drop('adult_male',axis=1) # We can get this data in Sex "
      ],
      "execution_count": 71,
      "outputs": []
    },
    {
      "cell_type": "code",
      "metadata": {
        "id": "N6c-O-oI5Xh9",
        "colab_type": "code",
        "colab": {}
      },
      "source": [
        "df=df.drop('alive',axis=1) #Because it is as same as Survived"
      ],
      "execution_count": 72,
      "outputs": []
    },
    {
      "cell_type": "code",
      "metadata": {
        "id": "wqsxdJdc5afK",
        "colab_type": "code",
        "colab": {}
      },
      "source": [
        "df=df.drop('alone',axis=1) #we can get it in Parch or Sibsp"
      ],
      "execution_count": 73,
      "outputs": []
    },
    {
      "cell_type": "code",
      "metadata": {
        "id": "89sarjSa5dnF",
        "colab_type": "code",
        "colab": {}
      },
      "source": [
        "df=df.drop('class',axis=1) #Class is as same as Pclass so it is not necessary"
      ],
      "execution_count": 74,
      "outputs": []
    },
    {
      "cell_type": "code",
      "metadata": {
        "id": "Xyoa8_sc5hnO",
        "colab_type": "code",
        "colab": {
          "base_uri": "https://localhost:8080/",
          "height": 136
        },
        "outputId": "87ad3e13-b196-483d-d7bc-c3bc6729cb61"
      },
      "source": [
        "df.isnull().sum()"
      ],
      "execution_count": 75,
      "outputs": [
        {
          "output_type": "execute_result",
          "data": {
            "text/plain": [
              "survived    0\n",
              "pclass      0\n",
              "sex         0\n",
              "sibsp       0\n",
              "parch       0\n",
              "fare        0\n",
              "dtype: int64"
            ]
          },
          "metadata": {
            "tags": []
          },
          "execution_count": 75
        }
      ]
    },
    {
      "cell_type": "code",
      "metadata": {
        "id": "RvPIIli35rMe",
        "colab_type": "code",
        "colab": {
          "base_uri": "https://localhost:8080/",
          "height": 265
        },
        "outputId": "001192b4-d221-4c5f-8aae-edfffe984fbd"
      },
      "source": [
        "#Ploting histogram for analysing sibsp\n",
        "df['sibsp'].plot.hist()\n",
        "plt.show()"
      ],
      "execution_count": 76,
      "outputs": [
        {
          "output_type": "display_data",
          "data": {
            "image/png": "[encoded data removed]",
            "text/plain": [
              "<Figure size 432x288 with 1 Axes>"
            ]
          },
          "metadata": {
            "tags": [],
            "needs_background": "light"
          }
        }
      ]
    },
    {
      "cell_type": "markdown",
      "metadata": {
        "id": "P5GlOCEIVZT3",
        "colab_type": "text"
      },
      "source": [
        "Analysis:\n",
        "\n",
        "1.   As we can see most of the siblings/spouse is zero ,it is not much needed for the model.\n",
        "\n",
        "\n",
        "\n",
        "    "
      ]
    },
    {
      "cell_type": "code",
      "metadata": {
        "id": "DKjRaQdX5yft",
        "colab_type": "code",
        "colab": {
          "base_uri": "https://localhost:8080/",
          "height": 266
        },
        "outputId": "2c3840c8-4c91-434b-fd5a-685a05900d8b"
      },
      "source": [
        "#Ploting histogram for analysing Parch\n",
        "df['parch'].plot.hist()\n",
        "plt.show()"
      ],
      "execution_count": 77,
      "outputs": [
        {
          "output_type": "display_data",
          "data": {
            "image/png": "[encoded data removed]",
            "text/plain": [
              "<Figure size 432x288 with 1 Axes>"
            ]
          },
          "metadata": {
            "tags": [],
            "needs_background": "light"
          }
        }
      ]
    },
    {
      "cell_type": "markdown",
      "metadata": {
        "id": "3dP7mCSNVgCH",
        "colab_type": "text"
      },
      "source": [
        "Analysis:\n",
        "\n",
        "1.   Here also mos of the parets/children is zero,we can avoid this columns.\n",
        "\n",
        "\n",
        "\n",
        "    "
      ]
    },
    {
      "cell_type": "code",
      "metadata": {
        "id": "_hO4CDd653Re",
        "colab_type": "code",
        "colab": {
          "base_uri": "https://localhost:8080/",
          "height": 265
        },
        "outputId": "be673f5f-f9ae-4653-e769-0a6586c777ce"
      },
      "source": [
        "#Plotting histogram for analysing Fare\n",
        "df['fare'].plot.hist()\n",
        "plt.show()"
      ],
      "execution_count": 78,
      "outputs": [
        {
          "output_type": "display_data",
          "data": {
            "image/png": "[encoded data removed]",
            "text/plain": [
              "<Figure size 432x288 with 1 Axes>"
            ]
          },
          "metadata": {
            "tags": [],
            "needs_background": "light"
          }
        }
      ]
    },
    {
      "cell_type": "markdown",
      "metadata": {
        "id": "iI3F_8EIVhoi",
        "colab_type": "text"
      },
      "source": [
        "Analysis:\n",
        "\n",
        "1.  Most of the fare is between 0 to 100 and max is 300 but it is very less.\n",
        "\n",
        "\n",
        "\n",
        "   "
      ]
    },
    {
      "cell_type": "code",
      "metadata": {
        "id": "EdzS7eGW57zj",
        "colab_type": "code",
        "colab": {
          "base_uri": "https://localhost:8080/",
          "height": 204
        },
        "outputId": "606105d4-c24e-4626-f0bd-8a81aa0cfc40"
      },
      "source": [
        "#After removing Unwanted columns\n",
        "df.head()"
      ],
      "execution_count": 79,
      "outputs": [
        {
          "output_type": "execute_result",
          "data": {
            "text/html": [
              "<div>\n",
              "<style scoped>\n",
              "    .dataframe tbody tr th:only-of-type {\n",
              "        vertical-align: middle;\n",
              "    }\n",
              "\n",
              "    .dataframe tbody tr th {\n",
              "        vertical-align: top;\n",
              "    }\n",
              "\n",
              "    .dataframe thead th {\n",
              "        text-align: right;\n",
              "    }\n",
              "</style>\n",
              "<table border=\"1\" class=\"dataframe\">\n",
              "  <thead>\n",
              "    <tr style=\"text-align: right;\">\n",
              "      <th></th>\n",
              "      <th>survived</th>\n",
              "      <th>pclass</th>\n",
              "      <th>sex</th>\n",
              "      <th>sibsp</th>\n",
              "      <th>parch</th>\n",
              "      <th>fare</th>\n",
              "    </tr>\n",
              "  </thead>\n",
              "  <tbody>\n",
              "    <tr>\n",
              "      <th>0</th>\n",
              "      <td>0</td>\n",
              "      <td>3</td>\n",
              "      <td>male</td>\n",
              "      <td>1</td>\n",
              "      <td>0</td>\n",
              "      <td>7.2500</td>\n",
              "    </tr>\n",
              "    <tr>\n",
              "      <th>1</th>\n",
              "      <td>1</td>\n",
              "      <td>1</td>\n",
              "      <td>female</td>\n",
              "      <td>1</td>\n",
              "      <td>0</td>\n",
              "      <td>71.2833</td>\n",
              "    </tr>\n",
              "    <tr>\n",
              "      <th>2</th>\n",
              "      <td>1</td>\n",
              "      <td>3</td>\n",
              "      <td>female</td>\n",
              "      <td>0</td>\n",
              "      <td>0</td>\n",
              "      <td>7.9250</td>\n",
              "    </tr>\n",
              "    <tr>\n",
              "      <th>3</th>\n",
              "      <td>1</td>\n",
              "      <td>1</td>\n",
              "      <td>female</td>\n",
              "      <td>1</td>\n",
              "      <td>0</td>\n",
              "      <td>53.1000</td>\n",
              "    </tr>\n",
              "    <tr>\n",
              "      <th>4</th>\n",
              "      <td>0</td>\n",
              "      <td>3</td>\n",
              "      <td>male</td>\n",
              "      <td>0</td>\n",
              "      <td>0</td>\n",
              "      <td>8.0500</td>\n",
              "    </tr>\n",
              "  </tbody>\n",
              "</table>\n",
              "</div>"
            ],
            "text/plain": [
              "   survived  pclass     sex  sibsp  parch     fare\n",
              "0         0       3    male      1      0   7.2500\n",
              "1         1       1  female      1      0  71.2833\n",
              "2         1       3  female      0      0   7.9250\n",
              "3         1       1  female      1      0  53.1000\n",
              "4         0       3    male      0      0   8.0500"
            ]
          },
          "metadata": {
            "tags": []
          },
          "execution_count": 79
        }
      ]
    },
    {
      "cell_type": "code",
      "metadata": {
        "id": "YV88LD_2-Fj2",
        "colab_type": "code",
        "colab": {}
      },
      "source": [
        "# Pre-Processing the data\n",
        "from sklearn.preprocessing import LabelEncoder"
      ],
      "execution_count": 80,
      "outputs": []
    },
    {
      "cell_type": "markdown",
      "metadata": {
        "id": "NJxVHEpyVo8X",
        "colab_type": "text"
      },
      "source": [
        "As column Sex conatins string value we have to do data preprocessing inorder to convert string into integer value. Here We are using LabelEncoder."
      ]
    },
    {
      "cell_type": "code",
      "metadata": {
        "id": "qlug6KRx-Jly",
        "colab_type": "code",
        "colab": {}
      },
      "source": [
        "l1=LabelEncoder()\n",
        "df['sex']=l1.fit_transform(df['sex'])"
      ],
      "execution_count": 81,
      "outputs": []
    },
    {
      "cell_type": "code",
      "metadata": {
        "id": "bmM6UI6z6JJH",
        "colab_type": "code",
        "colab": {}
      },
      "source": [
        "#Splitting Dependent and Independent Variables into two different variables.\n",
        "x=df.drop('survived',axis=1)\n",
        "y=df['survived']"
      ],
      "execution_count": 82,
      "outputs": []
    },
    {
      "cell_type": "code",
      "metadata": {
        "id": "QPepNFat6amT",
        "colab_type": "code",
        "colab": {
          "base_uri": "https://localhost:8080/",
          "height": 204
        },
        "outputId": "6117d1ac-854e-4b0a-e270-4a2ff8f772d1"
      },
      "source": [
        "x.head()"
      ],
      "execution_count": 83,
      "outputs": [
        {
          "output_type": "execute_result",
          "data": {
            "text/html": [
              "<div>\n",
              "<style scoped>\n",
              "    .dataframe tbody tr th:only-of-type {\n",
              "        vertical-align: middle;\n",
              "    }\n",
              "\n",
              "    .dataframe tbody tr th {\n",
              "        vertical-align: top;\n",
              "    }\n",
              "\n",
              "    .dataframe thead th {\n",
              "        text-align: right;\n",
              "    }\n",
              "</style>\n",
              "<table border=\"1\" class=\"dataframe\">\n",
              "  <thead>\n",
              "    <tr style=\"text-align: right;\">\n",
              "      <th></th>\n",
              "      <th>pclass</th>\n",
              "      <th>sex</th>\n",
              "      <th>sibsp</th>\n",
              "      <th>parch</th>\n",
              "      <th>fare</th>\n",
              "    </tr>\n",
              "  </thead>\n",
              "  <tbody>\n",
              "    <tr>\n",
              "      <th>0</th>\n",
              "      <td>3</td>\n",
              "      <td>1</td>\n",
              "      <td>1</td>\n",
              "      <td>0</td>\n",
              "      <td>7.2500</td>\n",
              "    </tr>\n",
              "    <tr>\n",
              "      <th>1</th>\n",
              "      <td>1</td>\n",
              "      <td>0</td>\n",
              "      <td>1</td>\n",
              "      <td>0</td>\n",
              "      <td>71.2833</td>\n",
              "    </tr>\n",
              "    <tr>\n",
              "      <th>2</th>\n",
              "      <td>3</td>\n",
              "      <td>0</td>\n",
              "      <td>0</td>\n",
              "      <td>0</td>\n",
              "      <td>7.9250</td>\n",
              "    </tr>\n",
              "    <tr>\n",
              "      <th>3</th>\n",
              "      <td>1</td>\n",
              "      <td>0</td>\n",
              "      <td>1</td>\n",
              "      <td>0</td>\n",
              "      <td>53.1000</td>\n",
              "    </tr>\n",
              "    <tr>\n",
              "      <th>4</th>\n",
              "      <td>3</td>\n",
              "      <td>1</td>\n",
              "      <td>0</td>\n",
              "      <td>0</td>\n",
              "      <td>8.0500</td>\n",
              "    </tr>\n",
              "  </tbody>\n",
              "</table>\n",
              "</div>"
            ],
            "text/plain": [
              "   pclass  sex  sibsp  parch     fare\n",
              "0       3    1      1      0   7.2500\n",
              "1       1    0      1      0  71.2833\n",
              "2       3    0      0      0   7.9250\n",
              "3       1    0      1      0  53.1000\n",
              "4       3    1      0      0   8.0500"
            ]
          },
          "metadata": {
            "tags": []
          },
          "execution_count": 83
        }
      ]
    },
    {
      "cell_type": "code",
      "metadata": {
        "id": "J4TY9_5K6df-",
        "colab_type": "code",
        "colab": {
          "base_uri": "https://localhost:8080/",
          "height": 119
        },
        "outputId": "9f66c522-62e3-43b6-faed-585944addc46"
      },
      "source": [
        "y.head()"
      ],
      "execution_count": 84,
      "outputs": [
        {
          "output_type": "execute_result",
          "data": {
            "text/plain": [
              "0    0\n",
              "1    1\n",
              "2    1\n",
              "3    1\n",
              "4    0\n",
              "Name: survived, dtype: int64"
            ]
          },
          "metadata": {
            "tags": []
          },
          "execution_count": 84
        }
      ]
    },
    {
      "cell_type": "code",
      "metadata": {
        "id": "KL4SjVcx7CFt",
        "colab_type": "code",
        "colab": {}
      },
      "source": [
        "# Splitting the dataset into the Training set and Test set\n",
        "from sklearn.model_selection import train_test_split"
      ],
      "execution_count": 85,
      "outputs": []
    },
    {
      "cell_type": "code",
      "metadata": {
        "id": "V__1DEIf9uR8",
        "colab_type": "code",
        "colab": {}
      },
      "source": [
        "x_train,x_test,y_train,y_test=train_test_split(x,y,train_size=0.8,test_size=0.2)"
      ],
      "execution_count": 86,
      "outputs": []
    },
    {
      "cell_type": "code",
      "metadata": {
        "id": "esQNVjZ19w6x",
        "colab_type": "code",
        "colab": {
          "base_uri": "https://localhost:8080/",
          "height": 85
        },
        "outputId": "67f97b80-d317-4ebc-928d-4fc15435950d"
      },
      "source": [
        "print(x_train.shape)\n",
        "print(y_train.shape)\n",
        "print(x_test.shape)\n",
        "print(y_test.shape)"
      ],
      "execution_count": 87,
      "outputs": [
        {
          "output_type": "stream",
          "text": [
            "(712, 5)\n",
            "(712,)\n",
            "(179, 5)\n",
            "(179,)\n"
          ],
          "name": "stdout"
        }
      ]
    },
    {
      "cell_type": "markdown",
      "metadata": {
        "id": "WNNEQO-ooOrt",
        "colab_type": "text"
      },
      "source": [
        "***Logistic Regression***"
      ]
    },
    {
      "cell_type": "code",
      "metadata": {
        "id": "SsvDNU1C9zX-",
        "colab_type": "code",
        "colab": {}
      },
      "source": [
        "# Training the Logistic Regression model on the Training set\n",
        "from sklearn.linear_model import LogisticRegression\n",
        "algo=LogisticRegression()\n"
      ],
      "execution_count": 88,
      "outputs": []
    },
    {
      "cell_type": "code",
      "metadata": {
        "id": "C2MQa7M_92sv",
        "colab_type": "code",
        "colab": {
          "base_uri": "https://localhost:8080/",
          "height": 102
        },
        "outputId": "8ddfce60-7e87-4bf7-c804-76f802acfd25"
      },
      "source": [
        "algo.fit(x_train,y_train)"
      ],
      "execution_count": 89,
      "outputs": [
        {
          "output_type": "execute_result",
          "data": {
            "text/plain": [
              "LogisticRegression(C=1.0, class_weight=None, dual=False, fit_intercept=True,\n",
              "                   intercept_scaling=1, l1_ratio=None, max_iter=100,\n",
              "                   multi_class='auto', n_jobs=None, penalty='l2',\n",
              "                   random_state=None, solver='lbfgs', tol=0.0001, verbose=0,\n",
              "                   warm_start=False)"
            ]
          },
          "metadata": {
            "tags": []
          },
          "execution_count": 89
        }
      ]
    },
    {
      "cell_type": "code",
      "metadata": {
        "id": "TqdMDSFg-WEq",
        "colab_type": "code",
        "colab": {}
      },
      "source": [
        "#Predicting the result \n",
        "ypred=algo.predict(x_test)"
      ],
      "execution_count": 90,
      "outputs": []
    },
    {
      "cell_type": "code",
      "metadata": {
        "id": "niD6F3Lu-jWg",
        "colab_type": "code",
        "colab": {}
      },
      "source": [
        "# Making the Confusion Matrix\n",
        "from sklearn.metrics import confusion_matrix"
      ],
      "execution_count": 91,
      "outputs": []
    },
    {
      "cell_type": "code",
      "metadata": {
        "id": "6ht9kDHf-qyS",
        "colab_type": "code",
        "colab": {
          "base_uri": "https://localhost:8080/",
          "height": 51
        },
        "outputId": "14745cbd-0850-4d4b-c97c-0ba6585d16af"
      },
      "source": [
        "confusion_matrix(y_test,ypred)"
      ],
      "execution_count": 92,
      "outputs": [
        {
          "output_type": "execute_result",
          "data": {
            "text/plain": [
              "array([[101,  11],\n",
              "       [ 30,  37]])"
            ]
          },
          "metadata": {
            "tags": []
          },
          "execution_count": 92
        }
      ]
    },
    {
      "cell_type": "markdown",
      "metadata": {
        "id": "Y83q_KZ_V07P",
        "colab_type": "text"
      },
      "source": [
        "Analysis:\n",
        "\n",
        "1.  Through this confusion matrix we can see that our model is not that bad,as actual_true and predicted_true are better than\n",
        "    actual_true and predicted_false.\n",
        "2.   Similary we can say actual_false and predicted _false is better than actual_false and predicted_true.\n",
        "3.   So we can conclude that our model has on an average accuracy. \n",
        "\n",
        "\n",
        "    "
      ]
    },
    {
      "cell_type": "code",
      "metadata": {
        "id": "pV54HAtX-0O-",
        "colab_type": "code",
        "colab": {}
      },
      "source": [
        "#Checking the Accuracy\n",
        "from sklearn.metrics import accuracy_score"
      ],
      "execution_count": 38,
      "outputs": []
    },
    {
      "cell_type": "code",
      "metadata": {
        "id": "zS07RciG-1ri",
        "colab_type": "code",
        "colab": {
          "base_uri": "https://localhost:8080/",
          "height": 34
        },
        "outputId": "eb34e2ee-323b-48d7-8020-168fd390e4c7"
      },
      "source": [
        "print(accuracy_score(y_test,ypred))"
      ],
      "execution_count": 39,
      "outputs": [
        {
          "output_type": "stream",
          "text": [
            "0.7486033519553073\n"
          ],
          "name": "stdout"
        }
      ]
    },
    {
      "cell_type": "code",
      "metadata": {
        "id": "liWfGzpb-50k",
        "colab_type": "code",
        "colab": {}
      },
      "source": [
        "#Saving the trained model\n",
        "import joblib"
      ],
      "execution_count": 93,
      "outputs": []
    },
    {
      "cell_type": "code",
      "metadata": {
        "id": "JP0Vs6O0-9WA",
        "colab_type": "code",
        "colab": {
          "base_uri": "https://localhost:8080/",
          "height": 34
        },
        "outputId": "6894a6b9-f9be-4d03-b59c-4abe5157dec0"
      },
      "source": [
        "joblib.dump(algo,r'/content/gdrive/My Drive/trainset.pkl')"
      ],
      "execution_count": 94,
      "outputs": [
        {
          "output_type": "execute_result",
          "data": {
            "text/plain": [
              "['/content/gdrive/My Drive/trainset.pkl']"
            ]
          },
          "metadata": {
            "tags": []
          },
          "execution_count": 94
        }
      ]
    },
    {
      "cell_type": "code",
      "metadata": {
        "id": "HACVwJsm_usc",
        "colab_type": "code",
        "colab": {
          "base_uri": "https://localhost:8080/",
          "height": 34
        },
        "outputId": "41fac7d5-2267-4051-b619-108549009a43"
      },
      "source": [
        "joblib.dump(l1,r\"/content/gdrive/My Drive/LabelEncoder.pkl\")"
      ],
      "execution_count": 95,
      "outputs": [
        {
          "output_type": "execute_result",
          "data": {
            "text/plain": [
              "['/content/gdrive/My Drive/LabelEncoder.pkl']"
            ]
          },
          "metadata": {
            "tags": []
          },
          "execution_count": 95
        }
      ]
    },
    {
      "cell_type": "code",
      "metadata": {
        "id": "W23oNpGraXjt",
        "colab_type": "code",
        "colab": {}
      },
      "source": [
        "model=joblib.load(\"/content/gdrive/My Drive/trainset.pkl\")"
      ],
      "execution_count": 96,
      "outputs": []
    },
    {
      "cell_type": "code",
      "metadata": {
        "id": "CPm9rxQyaZ8T",
        "colab_type": "code",
        "colab": {}
      },
      "source": [
        "en=joblib.load('/content/gdrive/My Drive/LabelEncoder.pkl')"
      ],
      "execution_count": 97,
      "outputs": []
    },
    {
      "cell_type": "code",
      "metadata": {
        "id": "xRR7b38gc90p",
        "colab_type": "code",
        "colab": {}
      },
      "source": [
        "#Importing library\n",
        "import numpy as np"
      ],
      "execution_count": 98,
      "outputs": []
    },
    {
      "cell_type": "code",
      "metadata": {
        "id": "--wHYVSQdEjZ",
        "colab_type": "code",
        "colab": {}
      },
      "source": [
        "# Checking the result for new set of Data\n",
        "new=np.array([[1,'male',1,0,75000]])\n",
        "df=pd.DataFrame(new)"
      ],
      "execution_count": 99,
      "outputs": []
    },
    {
      "cell_type": "code",
      "metadata": {
        "id": "olW4aGq8dp9l",
        "colab_type": "code",
        "colab": {
          "base_uri": "https://localhost:8080/",
          "height": 80
        },
        "outputId": "f8834486-4c7b-4f0d-c603-5ab285cbf918"
      },
      "source": [
        "df.head()"
      ],
      "execution_count": 100,
      "outputs": [
        {
          "output_type": "execute_result",
          "data": {
            "text/html": [
              "<div>\n",
              "<style scoped>\n",
              "    .dataframe tbody tr th:only-of-type {\n",
              "        vertical-align: middle;\n",
              "    }\n",
              "\n",
              "    .dataframe tbody tr th {\n",
              "        vertical-align: top;\n",
              "    }\n",
              "\n",
              "    .dataframe thead th {\n",
              "        text-align: right;\n",
              "    }\n",
              "</style>\n",
              "<table border=\"1\" class=\"dataframe\">\n",
              "  <thead>\n",
              "    <tr style=\"text-align: right;\">\n",
              "      <th></th>\n",
              "      <th>0</th>\n",
              "      <th>1</th>\n",
              "      <th>2</th>\n",
              "      <th>3</th>\n",
              "      <th>4</th>\n",
              "    </tr>\n",
              "  </thead>\n",
              "  <tbody>\n",
              "    <tr>\n",
              "      <th>0</th>\n",
              "      <td>1</td>\n",
              "      <td>male</td>\n",
              "      <td>1</td>\n",
              "      <td>0</td>\n",
              "      <td>75000</td>\n",
              "    </tr>\n",
              "  </tbody>\n",
              "</table>\n",
              "</div>"
            ],
            "text/plain": [
              "   0     1  2  3      4\n",
              "0  1  male  1  0  75000"
            ]
          },
          "metadata": {
            "tags": []
          },
          "execution_count": 100
        }
      ]
    },
    {
      "cell_type": "code",
      "metadata": {
        "id": "Nd_yGntbfk79",
        "colab_type": "code",
        "colab": {
          "base_uri": "https://localhost:8080/",
          "height": 34
        },
        "outputId": "64dd01e6-77b7-4085-869d-c7e0fe07f87a"
      },
      "source": [
        "df[1]=en.transform(df[1]) #Data preprocessing \n",
        "df\n",
        "model.predict(df)   #predicting wheather person is alive or not                 \n",
        "\n",
        "                    "
      ],
      "execution_count": 101,
      "outputs": [
        {
          "output_type": "execute_result",
          "data": {
            "text/plain": [
              "array([1])"
            ]
          },
          "metadata": {
            "tags": []
          },
          "execution_count": 101
        }
      ]
    },
    {
      "cell_type": "markdown",
      "metadata": {
        "id": "8eHQnEDTy5DQ",
        "colab_type": "text"
      },
      "source": [
        "According to the new data values the person is not alive.\n"
      ]
    },
    {
      "cell_type": "markdown",
      "metadata": {
        "id": "A-5W7DuqpQLd",
        "colab_type": "text"
      },
      "source": [
        "**Decision** **Tree**"
      ]
    },
    {
      "cell_type": "code",
      "metadata": {
        "id": "K6hMavU5fv0y",
        "colab_type": "code",
        "colab": {
          "base_uri": "https://localhost:8080/",
          "height": 119
        },
        "outputId": "9aa71050-0a20-4bd8-af35-5f65393d4a8d"
      },
      "source": [
        "# Training the Decision Tree model on the Training set\n",
        "from sklearn.tree import DecisionTreeClassifier,plot_tree\n",
        "algo1=DecisionTreeClassifier(criterion='entropy',max_depth=4)\n",
        "algo1.fit(x_train,y_train)"
      ],
      "execution_count": 102,
      "outputs": [
        {
          "output_type": "execute_result",
          "data": {
            "text/plain": [
              "DecisionTreeClassifier(ccp_alpha=0.0, class_weight=None, criterion='entropy',\n",
              "                       max_depth=4, max_features=None, max_leaf_nodes=None,\n",
              "                       min_impurity_decrease=0.0, min_impurity_split=None,\n",
              "                       min_samples_leaf=1, min_samples_split=2,\n",
              "                       min_weight_fraction_leaf=0.0, presort='deprecated',\n",
              "                       random_state=None, splitter='best')"
            ]
          },
          "metadata": {
            "tags": []
          },
          "execution_count": 102
        }
      ]
    },
    {
      "cell_type": "code",
      "metadata": {
        "id": "OafEPhDcpZmf",
        "colab_type": "code",
        "colab": {
          "base_uri": "https://localhost:8080/",
          "height": 575
        },
        "outputId": "04410d38-12e4-4d26-c649-10ac397461ed"
      },
      "source": [
        "#Ploting Decision tree\n",
        "plt.figure(figsize=(20,10))\n",
        "plot_tree(algo1,filled=True)\n",
        "plt.show()"
      ],
      "execution_count": 103,
      "outputs": [
        {
          "output_type": "display_data",
          "data": {
            "image/png": "[encoded data removed]",
            "text/plain": [
              "<Figure size 1440x720 with 1 Axes>"
            ]
          },
          "metadata": {
            "tags": [],
            "needs_background": "light"
          }
        }
      ]
    },
    {
      "cell_type": "code",
      "metadata": {
        "id": "af_iZw0NpcvW",
        "colab_type": "code",
        "colab": {
          "base_uri": "https://localhost:8080/",
          "height": 68
        },
        "outputId": "b4a62179-6e63-4de5-8aa5-82e00f6befe6"
      },
      "source": [
        "# Making the Confusion Matrix and Checking the Accuracy\n",
        "from sklearn.metrics import accuracy_score,confusion_matrix\n",
        "ypred=algo1.predict(x_test)\n",
        "print(accuracy_score(y_test,ypred))\n",
        "print(confusion_matrix(y_test,ypred))"
      ],
      "execution_count": 104,
      "outputs": [
        {
          "output_type": "stream",
          "text": [
            "0.770949720670391\n",
            "[[107   5]\n",
            " [ 36  31]]\n"
          ],
          "name": "stdout"
        }
      ]
    },
    {
      "cell_type": "markdown",
      "metadata": {
        "id": "_xGKniXvpiOc",
        "colab_type": "text"
      },
      "source": [
        "**Random Forest**"
      ]
    },
    {
      "cell_type": "code",
      "metadata": {
        "id": "gCAXETFfpcm_",
        "colab_type": "code",
        "colab": {}
      },
      "source": [
        "# Training the Random Forest model on the Training set\n",
        "from sklearn.ensemble import RandomForestClassifier\n",
        "algo2=RandomForestClassifier(criterion='entropy',n_estimators=10)"
      ],
      "execution_count": 105,
      "outputs": []
    },
    {
      "cell_type": "code",
      "metadata": {
        "id": "2sieCMZnpqV6",
        "colab_type": "code",
        "colab": {}
      },
      "source": [
        "#Fitting the train set and predicting the result.\n",
        "algo2.fit(x_train,y_train)\n",
        "ypred1=algo2.predict(x_test)"
      ],
      "execution_count": 106,
      "outputs": []
    },
    {
      "cell_type": "code",
      "metadata": {
        "id": "0o9noSixpsb5",
        "colab_type": "code",
        "colab": {
          "base_uri": "https://localhost:8080/",
          "height": 68
        },
        "outputId": "9602e559-23ac-4f7a-8bef-5a26f787c94c"
      },
      "source": [
        "# Making the Confusion Matrix and Checking the Accuracy\n",
        "print(confusion_matrix(y_test,ypred1))\n",
        "print(accuracy_score(y_test,ypred1))"
      ],
      "execution_count": 108,
      "outputs": [
        {
          "output_type": "stream",
          "text": [
            "[[105   7]\n",
            " [ 30  37]]\n",
            "0.7932960893854749\n"
          ],
          "name": "stdout"
        }
      ]
    },
    {
      "cell_type": "markdown",
      "metadata": {
        "id": "8cakifunBbqX",
        "colab_type": "text"
      },
      "source": [
        "As we can see,\n",
        "\n",
        "*   Logistic Regression's accuracy is : 0.7486033519553073\n",
        "*   Decision Tree's  accuracy is      : 0.770949720670391\n",
        "*   Random Forest's  accuracy is      : 0.7932960893854749\n",
        "\n",
        "So Random Forest algorithm fits the best for titanic dataset.\n"
      ]
    }
  ]
}